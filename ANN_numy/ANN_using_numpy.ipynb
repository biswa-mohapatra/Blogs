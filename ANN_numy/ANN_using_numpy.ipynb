{
 "cells": [
  {
   "cell_type": "code",
   "execution_count": 21,
   "metadata": {},
   "outputs": [],
   "source": [
    "f_mnist_data = {0: 'T-shirt/top',\n",
    " 1: 'Trouser',\n",
    " 2: 'Pullover',\n",
    " 3: 'Dress',\n",
    " 4: 'Coat',\n",
    " 5: 'Sandal',\n",
    " 6: 'Shirt',\n",
    " 7: 'Sneaker',\n",
    " 8: 'Bag',\n",
    " 9: 'Ankle boot'}"
   ]
  },
  {
   "cell_type": "code",
   "execution_count": 1,
   "metadata": {},
   "outputs": [],
   "source": [
    "import numpy as np\n",
    "import pandas as pd\n",
    "from matplotlib import pyplot as plt\n",
    "\n",
    "data = pd.read_csv('fashion-mnist_test.csv/fashion-mnist_test.csv')"
   ]
  },
  {
   "cell_type": "code",
   "execution_count": 2,
   "metadata": {},
   "outputs": [],
   "source": [
    "data = np.array(data)\n",
    "m, n = data.shape\n",
    "np.random.shuffle(data) # shuffle before splitting into dev and training sets\n",
    "\n",
    "data_dev = data[0:1000].T\n",
    "Y_dev = data_dev[0]\n",
    "X_dev = data_dev[1:n]\n",
    "X_dev = X_dev / 255.\n",
    "\n",
    "data_train = data[1000:m].T\n",
    "Y_train = data_train[0]\n",
    "X_train = data_train[1:n]\n",
    "X_train = X_train / 255.\n",
    "_,m_train = X_train.shape"
   ]
  },
  {
   "cell_type": "code",
   "execution_count": 3,
   "metadata": {},
   "outputs": [
    {
     "data": {
      "text/plain": [
       "array([7, 7, 4, ..., 2, 2, 1], dtype=int64)"
      ]
     },
     "execution_count": 3,
     "metadata": {},
     "output_type": "execute_result"
    }
   ],
   "source": [
    "Y_train"
   ]
  },
  {
   "cell_type": "code",
   "execution_count": 4,
   "metadata": {},
   "outputs": [],
   "source": [
    "def init_params():\n",
    "    W1 = np.random.rand(10, 784) - 0.5\n",
    "    b1 = np.random.rand(10, 1) - 0.5\n",
    "    W2 = np.random.rand(10, 10) - 0.5\n",
    "    b2 = np.random.rand(10, 1) - 0.5\n",
    "    return W1, b1, W2, b2\n",
    "\n",
    "def ReLU(Z):\n",
    "    return np.maximum(Z, 0)\n",
    "\n",
    "def softmax(Z):\n",
    "    A = np.exp(Z) / sum(np.exp(Z))\n",
    "    return A\n",
    "    \n",
    "def forward_prop(W1, b1, W2, b2, X):\n",
    "    Z1 = W1.dot(X) + b1\n",
    "    A1 = ReLU(Z1)\n",
    "    Z2 = W2.dot(A1) + b2\n",
    "    A2 = softmax(Z2)\n",
    "    return Z1, A1, Z2, A2\n",
    "\n",
    "def ReLU_deriv(Z):\n",
    "    return Z > 0\n",
    "\n",
    "def one_hot(Y):\n",
    "    one_hot_Y = np.zeros((Y.size, Y.max() + 1))\n",
    "    one_hot_Y[np.arange(Y.size), Y] = 1\n",
    "    one_hot_Y = one_hot_Y.T\n",
    "    return one_hot_Y\n",
    "\n",
    "def backward_prop(Z1, A1, Z2, A2, W1, W2, X, Y):\n",
    "    one_hot_Y = one_hot(Y)\n",
    "    dZ2 = A2 - one_hot_Y\n",
    "    dW2 = 1 / m * dZ2.dot(A1.T)\n",
    "    db2 = 1 / m * np.sum(dZ2)\n",
    "    dZ1 = W2.T.dot(dZ2) * ReLU_deriv(Z1)\n",
    "    dW1 = 1 / m * dZ1.dot(X.T)\n",
    "    db1 = 1 / m * np.sum(dZ1)\n",
    "    return dW1, db1, dW2, db2\n",
    "\n",
    "def update_params(W1, b1, W2, b2, dW1, db1, dW2, db2, alpha):\n",
    "    W1 = W1 - alpha * dW1\n",
    "    b1 = b1 - alpha * db1    \n",
    "    W2 = W2 - alpha * dW2  \n",
    "    b2 = b2 - alpha * db2    \n",
    "    return W1, b1, W2, b2"
   ]
  },
  {
   "cell_type": "code",
   "execution_count": 6,
   "metadata": {},
   "outputs": [],
   "source": [
    "def get_predictions(A2):\n",
    "    return np.argmax(A2, 0)\n",
    "\n",
    "def get_accuracy(predictions, Y):\n",
    "    print(predictions, Y)\n",
    "    return np.sum(predictions == Y) / Y.size\n",
    "\n",
    "def gradient_descent(X, Y, alpha, iterations):\n",
    "    W1, b1, W2, b2 = init_params()\n",
    "    for i in range(iterations):\n",
    "        Z1, A1, Z2, A2 = forward_prop(W1, b1, W2, b2, X)\n",
    "        dW1, db1, dW2, db2 = backward_prop(Z1, A1, Z2, A2, W1, W2, X, Y)\n",
    "        W1, b1, W2, b2 = update_params(W1, b1, W2, b2, dW1, db1, dW2, db2, alpha)\n",
    "        if i % 200 == 0:\n",
    "            print(\"Iteration: \", i)\n",
    "            predictions = get_predictions(A2)\n",
    "            print(get_accuracy(predictions, Y))\n",
    "    return W1, b1, W2, b2"
   ]
  },
  {
   "cell_type": "code",
   "execution_count": 16,
   "metadata": {},
   "outputs": [
    {
     "name": "stdout",
     "output_type": "stream",
     "text": [
      "Iteration:  0\n",
      "[5 5 4 ... 4 4 4] [7 7 4 ... 2 2 1]\n",
      "0.1632222222222222\n",
      "Iteration:  200\n",
      "[7 7 1 ... 2 6 1] [7 7 4 ... 2 2 1]\n",
      "0.687\n",
      "Iteration:  400\n",
      "[7 7 3 ... 2 8 1] [7 7 4 ... 2 2 1]\n",
      "0.7434444444444445\n",
      "Iteration:  600\n",
      "[7 7 4 ... 2 8 1] [7 7 4 ... 2 2 1]\n",
      "0.7718888888888888\n",
      "Iteration:  800\n",
      "[7 7 4 ... 2 6 1] [7 7 4 ... 2 2 1]\n",
      "0.7894444444444444\n"
     ]
    }
   ],
   "source": [
    "W1, b1, W2, b2 = gradient_descent(X_train, Y_train, 0.15, 1000)\n"
   ]
  },
  {
   "cell_type": "code",
   "execution_count": 26,
   "metadata": {},
   "outputs": [],
   "source": [
    "def make_predictions(X, W1, b1, W2, b2):\n",
    "    _, _, _, A2 = forward_prop(W1, b1, W2, b2, X)\n",
    "    predictions = int(get_predictions(A2))\n",
    "    return predictions\n",
    "\n",
    "def test_prediction(index, W1, b1, W2, b2):\n",
    "    current_image = X_train[:, index, None]\n",
    "    prediction = make_predictions(X_train[:, index, None], W1, b1, W2, b2)\n",
    "    label = Y_train[index]\n",
    "    print(\"Prediction: \", f_mnist_data[prediction])\n",
    "    print(\"Label: \", f_mnist_data[label])\n",
    "    \n",
    "    \n",
    "    current_image = current_image.reshape((28, 28)) * 255\n",
    "    plt.gray()\n",
    "    plt.imshow(current_image, interpolation='nearest')\n",
    "    plt.show()"
   ]
  },
  {
   "cell_type": "code",
   "execution_count": 27,
   "metadata": {},
   "outputs": [
    {
     "name": "stdout",
     "output_type": "stream",
     "text": [
      "Prediction:  Sneaker\n",
      "Label:  Sneaker\n"
     ]
    },
    {
     "data": {
      "image/png": "[encoded data removed]",
      "text/plain": [
       "<Figure size 432x288 with 1 Axes>"
      ]
     },
     "metadata": {
      "needs_background": "light"
     },
     "output_type": "display_data"
    },
    {
     "name": "stdout",
     "output_type": "stream",
     "text": [
      "Prediction:  Sneaker\n",
      "Label:  Sneaker\n"
     ]
    },
    {
     "data": {
      "image/png": "[encoded data removed]",
      "text/plain": [
       "<Figure size 432x288 with 1 Axes>"
      ]
     },
     "metadata": {
      "needs_background": "light"
     },
     "output_type": "display_data"
    },
    {
     "name": "stdout",
     "output_type": "stream",
     "text": [
      "Prediction:  Coat\n",
      "Label:  Coat\n"
     ]
    },
    {
     "data": {
      "image/png": "[encoded data removed]",
      "text/plain": [
       "<Figure size 432x288 with 1 Axes>"
      ]
     },
     "metadata": {
      "needs_background": "light"
     },
     "output_type": "display_data"
    },
    {
     "name": "stdout",
     "output_type": "stream",
     "text": [
      "Prediction:  Pullover\n",
      "Label:  Pullover\n"
     ]
    },
    {
     "data": {
      "image/png": "[encoded data removed]",
      "text/plain": [
       "<Figure size 432x288 with 1 Axes>"
      ]
     },
     "metadata": {
      "needs_background": "light"
     },
     "output_type": "display_data"
    }
   ],
   "source": [
    "test_prediction(0, W1, b1, W2, b2)\n",
    "test_prediction(1, W1, b1, W2, b2)\n",
    "test_prediction(2, W1, b1, W2, b2)\n",
    "test_prediction(3, W1, b1, W2, b2)"
   ]
  },
  {
   "cell_type": "code",
   "execution_count": 19,
   "metadata": {},
   "outputs": [
    {
     "name": "stdout",
     "output_type": "stream",
     "text": [
      "[8 2 4 2 7 4 2 1 2 4 3 7 2 7 5 8 4 7 9 4 6 5 2 2 3 6 5 1 3 9 9 7 1 2 6 3 2\n",
      " 3 4 3 2 5 4 0 2 7 9 6 3 0 0 7 3 4 0 7 9 1 1 0 7 7 0 1 5 0 3 3 8 2 8 8 1 2\n",
      " 0 4 4 3 4 0 5 2 1 9 2 8 1 8 4 3 0 8 2 1 8 9 9 3 5 5 2 4 7 5 0 1 5 2 4 5 8\n",
      " 8 4 4 7 7 0 2 3 2 2 3 5 4 4 2 5 1 7 7 3 7 8 0 8 8 0 0 4 8 5 1 6 7 3 0 2 5\n",
      " 0 7 3 9 8 9 1 8 3 6 0 2 1 1 9 3 2 5 6 0 6 1 3 4 6 8 3 7 9 8 6 2 7 1 1 3 3\n",
      " 5 7 3 7 4 3 7 3 5 4 6 7 1 0 8 3 6 0 2 9 0 1 0 3 8 9 5 8 9 6 1 4 1 9 6 2 1\n",
      " 0 3 3 5 9 9 0 7 6 4 1 8 0 6 0 7 6 3 1 2 2 9 7 1 4 5 0 5 5 3 7 6 0 2 6 5 0\n",
      " 6 0 0 8 5 3 8 8 2 9 0 5 6 2 3 0 4 3 4 7 2 0 5 2 9 6 4 3 4 6 1 1 5 5 9 0 9\n",
      " 4 7 9 6 0 6 8 2 5 4 9 0 0 0 6 4 8 9 2 7 4 4 0 4 5 9 8 3 0 6 0 2 2 6 3 9 1\n",
      " 9 7 2 5 5 6 6 2 0 3 6 2 3 4 6 1 1 0 3 5 0 8 8 8 1 0 4 3 1 2 0 5 7 0 0 0 7\n",
      " 9 7 4 3 2 2 3 4 0 8 6 4 5 6 3 6 9 1 3 0 3 0 1 7 9 1 2 1 9 0 5 7 3 8 5 9 4\n",
      " 6 2 9 4 1 5 7 3 9 2 9 9 0 5 9 1 3 6 9 4 5 2 1 0 9 9 1 8 9 8 1 1 0 1 8 0 3\n",
      " 3 8 5 5 3 7 1 2 0 8 2 1 0 4 5 8 5 7 8 0 9 9 9 1 5 0 0 2 3 0 2 1 8 6 6 8 7\n",
      " 6 6 9 9 0 3 1 8 9 0 4 7 8 5 6 1 5 7 9 7 2 9 9 8 0 6 4 8 1 6 0 8 3 2 2 5 5\n",
      " 0 2 1 4 0 4 0 9 3 5 4 2 7 0 9 8 9 6 6 4 9 5 0 9 6 7 9 6 6 7 3 2 9 3 8 4 5\n",
      " 9 1 4 0 7 6 1 6 3 0 5 3 4 0 7 7 3 8 2 4 9 2 1 7 6 5 0 7 5 5 5 0 3 9 7 4 3\n",
      " 7 8 5 5 1 6 2 8 3 7 5 8 4 2 9 5 0 8 2 2 4 7 1 4 6 4 7 9 1 1 2 5 0 7 3 0 8\n",
      " 7 6 7 9 7 2 4 5 3 8 8 6 3 5 8 9 6 4 0 4 6 8 5 6 0 9 3 9 0 1 9 4 5 0 5 4 2\n",
      " 8 0 0 6 0 8 9 8 7 8 7 9 7 4 2 1 3 5 6 0 0 0 9 5 8 4 1 3 3 8 3 7 8 3 8 6 3\n",
      " 1 3 9 7 2 5 6 2 4 0 8 4 2 0 9 0 9 2 0 3 4 7 1 9 7 0 3 8 0 5 4 2 6 2 5 2 6\n",
      " 0 2 1 9 3 5 5 9 0 5 7 3 7 4 0 5 6 9 6 2 5 2 7 3 7 3 9 3 1 7 9 7 3 8 7 7 5\n",
      " 0 2 2 3 0 8 7 4 1 7 4 0 8 8 7 9 4 2 1 5 1 6 7 2 8 4 0 9 0 5 4 1 1 4 9 5 9\n",
      " 1 5 8 5 6 1 5 9 2 8 1 1 4 7 9 6 1 7 7 3 8 2 9 3 2 8 1 4 3 2 5 3 4 8 2 5 9\n",
      " 8 7 2 1 1 2 1 0 5 8 8 3 6 6 9 5 4 4 6 6 8 8 8 3 1 6 9 8 9 4 6 0 7 6 4 0 2\n",
      " 6 3 0 9 7 1 4 8 5 0 7 2 1 9 6 0 7 4 9 3 6 8 9 6 0 2 2 0 3 0 9 1 6 0 7 0 4\n",
      " 3 5 9 0 0 2 1 1 6 9 0 9 5 9 9 6 3 7 6 8 9 1 6 2 1 8 8 2 0 1 2 7 8 4 3 2 4\n",
      " 1 0 8 0 5 5 3 9 8 6 7 1 8 2 2 5 5 5 7 3 2 3 5 7 4 0 2 8 8 8 2 4 9 3 7 7 1\n",
      " 8] [8 2 4 2 7 4 6 1 2 4 3 7 2 7 5 8 2 7 9 4 2 5 2 2 3 6 5 1 3 9 9 7 1 6 6 3 2\n",
      " 3 2 3 2 5 2 0 2 7 9 6 3 0 0 7 3 6 6 9 5 1 1 0 7 7 0 1 5 0 3 3 8 2 8 8 1 2\n",
      " 2 4 4 3 2 0 9 2 1 9 2 5 1 8 2 3 0 8 2 1 8 9 9 0 5 5 2 4 7 5 0 1 8 4 6 8 8\n",
      " 8 4 2 7 7 3 6 4 4 2 3 5 4 4 4 7 1 7 7 3 7 8 0 8 8 6 6 4 8 5 1 4 7 3 0 2 5\n",
      " 0 7 3 9 8 9 1 8 3 6 0 4 1 1 9 6 2 5 2 0 6 1 3 6 2 8 0 7 9 8 0 6 7 1 1 6 3\n",
      " 5 7 3 7 4 3 7 3 5 4 4 7 1 0 8 3 6 0 4 9 6 1 0 3 8 9 5 8 9 2 6 4 1 9 6 2 1\n",
      " 0 3 3 5 9 9 0 7 6 4 3 8 0 6 5 7 6 3 1 2 2 9 7 1 4 5 0 7 5 3 7 6 0 2 6 5 0\n",
      " 6 0 6 8 5 3 8 8 4 9 0 5 6 2 3 6 3 0 6 7 2 0 5 4 9 8 4 3 4 4 1 1 5 7 9 6 5\n",
      " 3 9 5 6 6 8 8 2 5 4 9 6 0 0 6 4 8 9 2 5 4 4 0 4 7 9 8 0 0 2 8 2 8 2 3 9 1\n",
      " 9 7 2 5 5 6 2 0 6 4 0 2 3 4 4 1 6 0 3 5 6 8 8 8 1 0 2 3 1 2 0 5 9 0 0 0 7\n",
      " 6 7 4 3 4 4 3 4 0 8 6 4 5 6 3 6 9 1 3 0 3 0 1 7 9 1 2 1 9 0 5 7 4 8 5 9 4\n",
      " 4 6 9 6 1 5 9 3 9 2 9 9 0 5 9 1 6 2 9 4 5 2 1 6 9 9 1 8 7 8 1 1 0 1 8 0 3\n",
      " 3 8 5 5 3 7 1 2 3 8 2 1 6 4 5 6 5 7 8 6 9 9 5 1 5 0 0 2 3 0 4 1 8 6 6 8 7\n",
      " 6 4 9 9 0 3 1 8 9 0 6 7 8 5 6 3 5 7 9 7 6 9 9 4 0 6 4 8 1 2 6 5 3 2 2 5 7\n",
      " 0 2 1 4 0 2 6 9 3 7 4 6 7 3 9 8 9 6 2 4 7 5 0 9 6 7 9 6 4 5 3 2 9 3 8 2 5\n",
      " 9 1 4 0 7 3 1 6 3 0 5 3 4 0 7 7 3 8 2 4 9 2 1 9 0 5 6 7 5 5 7 8 3 9 7 4 3\n",
      " 7 8 5 5 1 4 2 8 3 7 5 8 4 2 9 5 0 8 1 2 4 7 1 4 4 4 7 9 1 1 2 5 0 7 0 0 8\n",
      " 7 4 7 9 7 2 4 5 3 8 8 4 4 5 8 9 4 4 8 4 4 8 5 6 6 9 0 9 0 1 9 4 5 0 7 4 4\n",
      " 8 0 0 0 0 8 9 8 7 8 7 9 7 4 2 1 3 5 8 0 6 0 9 5 8 4 1 0 3 8 0 7 8 3 8 3 0\n",
      " 1 3 9 7 4 5 6 2 4 6 8 6 2 0 9 0 9 2 0 3 4 5 1 9 7 0 3 8 0 5 4 2 0 2 5 6 6\n",
      " 6 2 1 9 3 5 5 9 0 5 7 4 7 4 0 5 6 9 4 2 8 2 7 3 7 3 9 3 1 9 9 7 1 8 7 7 5\n",
      " 6 6 4 3 0 8 7 4 1 7 4 0 8 2 7 9 4 2 1 5 1 6 7 2 8 4 0 9 0 5 4 1 1 4 9 5 9\n",
      " 1 9 0 5 2 1 5 9 6 8 1 1 4 7 9 6 1 7 7 3 8 2 9 3 2 8 1 4 3 2 5 3 4 8 2 5 9\n",
      " 8 7 2 1 1 0 1 6 5 8 8 3 3 6 9 5 4 2 4 4 8 8 6 3 1 6 9 8 9 2 0 3 5 4 6 0 2\n",
      " 0 3 6 9 7 1 4 8 5 0 7 2 1 9 2 0 7 4 9 3 6 8 9 6 6 2 6 0 3 0 9 1 6 6 7 0 4\n",
      " 3 5 9 0 6 6 1 1 4 9 6 9 5 7 9 2 3 7 6 8 9 1 6 2 1 8 8 2 6 1 4 7 8 4 3 2 4\n",
      " 1 2 8 0 5 5 3 9 8 6 7 1 8 2 3 5 5 5 7 3 2 2 5 7 4 6 2 8 8 5 6 4 9 3 7 7 1\n",
      " 8]\n"
     ]
    },
    {
     "data": {
      "text/plain": [
       "0.801"
      ]
     },
     "execution_count": 19,
     "metadata": {},
     "output_type": "execute_result"
    }
   ],
   "source": [
    "dev_predictions = make_predictions(X_dev, W1, b1, W2, b2)\n",
    "get_accuracy(dev_predictions, Y_dev)"
   ]
  },
  {
   "cell_type": "code",
   "execution_count": null,
   "metadata": {},
   "outputs": [],
   "source": []
  }
 ],
 "metadata": {
  "kernelspec": {
   "display_name": "Python 3 (ipykernel)",
   "language": "python",
   "name": "python3"
  },
  "language_info": {
   "codemirror_mode": {
    "name": "ipython",
    "version": 3
   },
   "file_extension": ".py",
   "mimetype": "text/x-python",
   "name": "python",
   "nbconvert_exporter": "python",
   "pygments_lexer": "ipython3",
   "version": "3.8.5"
  }
 },
 "nbformat": 4,
 "nbformat_minor": 4
}
