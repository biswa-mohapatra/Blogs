{
 "cells": [
  {
   "cell_type": "markdown",
   "id": "b8f2d253-6644-42d6-8d79-f0a93b718ed4",
   "metadata": {},
   "source": [
    "# Python Tutorial : Introduction\n",
    "\n",
    "## What is python?\n",
    "\n",
    "**Python: Your Gateway to Coding Bliss**\n",
    "\n",
    "Python isn't just a programming language; it's a game-changer in the coding world. Here are four solid reasons why Python is the ultimate choice for both beginners and experts:\n",
    "\n",
    "1. **Readability and Simplicity**: Python is like reading plain English, making it incredibly beginner-friendly. Its clean syntax and indentation rules enhance code readability, reducing the chance of errors. This simplicity speeds up the learning curve, allowing you to focus on problem-solving rather than deciphering complex syntax.\n",
    "\n",
    "2. **Versatility**: Whether you're into web development, data analysis, artificial intelligence, or automation, Python has got your back. It boasts an extensive library ecosystem that covers almost every domain. Need to manipulate data? There's `pandas`. Developing a web app? Say hello to `Django` or `Flask`. Machine learning? Get started with `scikit-learn`. This versatility saves you time and effort when switching between projects.\n",
    "\n",
    "3. **Community and Support**: Python has one of the most vibrant and welcoming communities. The Python Software Foundation, along with numerous developers worldwide, continuously contribute to its growth. If you're stuck on a problem, chances are someone has already faced it and shared a solution. From forums to tutorials, the Python community has your back.\n",
    "\n",
    "4. **Portability and Cross-Platform Compatibility**: Write code once, run it anywhere. Python is known for its cross-platform compatibility. You can write code on Windows and run it on Linux or macOS without major modifications. This portability saves you the headache of rewriting code for different systems, making development smoother and more efficient.\n",
    "\n",
    "In a nutshell, Python isn't just a programming language; it's a journey towards simplified, efficient, and creative coding. Its simplicity, versatility, strong community, and cross-platform compatibility make it the ideal language for both budding coders and seasoned developers. So, what are you waiting for? Dive into the world of Python and experience the joy of coding! 🐍🚀"
   ]
  },
  {
   "cell_type": "code",
   "execution_count": 1,
   "id": "483c6f8e-049e-44ef-adda-01397dce34cd",
   "metadata": {
    "tags": []
   },
   "outputs": [
    {
     "name": "stdout",
     "output_type": "stream",
     "text": [
      "Hello World!\n"
     ]
    }
   ],
   "source": [
    "# lets start with a simple print statement in python!\n",
    "print('Hello World!')"
   ]
  },
  {
   "cell_type": "markdown",
   "id": "16e51e5b-f897-4cfd-932f-09dce5945c04",
   "metadata": {},
   "source": [
    "## Discussion Contents!\n",
    "\n",
    "1. **Flow Control**\n",
    "2. **Array Types**\n",
    "3. **Working with Files**\n",
    "4. **Dictionaries and Sets**"
   ]
  },
  {
   "cell_type": "markdown",
   "id": "7fd8fde1-2d8a-47aa-9095-65ea47e2d532",
   "metadata": {},
   "source": [
    "### Flow Control \n",
    "\n",
    "Think of flow control as the traffic signals of your code. It's how you make decisions, loop through actions, and create branches based on conditions. This helps your code respond dynamically to different situations.\n",
    "\n",
    "In flow controls we have Conditional Statements and loops."
   ]
  },
  {
   "cell_type": "markdown",
   "id": "36ab6e54-7aa8-4860-ab9f-955df3d050c1",
   "metadata": {
    "tags": []
   },
   "source": [
    "#### Conditional statemets\n",
    "\n",
    "One fundamental aspect of flow control is conditional statements. These are like \"if-else\" conditions in our daily life. In programming, they help your code make decisions. For instance, lets take an example of asking a machine to take a decission on wether condition for a given temperature. How would i do that?\n",
    "\n",
    "Here, based on the temperature value, the code decides what message to display."
   ]
  },
  {
   "cell_type": "code",
   "execution_count": 3,
   "id": "937db2de-e947-4d07-bf81-b16817bb1154",
   "metadata": {
    "tags": []
   },
   "outputs": [
    {
     "name": "stdout",
     "output_type": "stream",
     "text": [
      "It's a pleasant day.\n"
     ]
    }
   ],
   "source": [
    "temperature = 25\n",
    "\n",
    "if temperature > 30:\n",
    "    print(\"It's hot outside!\")\n",
    "elif temperature > 20:\n",
    "    print(\"It's a pleasant day.\")\n",
    "else:\n",
    "    print(\"It's a bit chilly.\")\n"
   ]
  },
  {
   "cell_type": "markdown",
   "id": "6aef42aa-2e75-4a68-9053-3e58cc9bbf00",
   "metadata": {},
   "source": [
    "#### Loops\n",
    "\n",
    "Next, we have loops. These are your code's way of doing repetitive tasks without repeating yourself. The two main types are \"for\" and \"while\" loops."
   ]
  },
  {
   "cell_type": "code",
   "execution_count": 4,
   "id": "85762b51-33fd-455f-a1ee-919aa3459a76",
   "metadata": {
    "tags": []
   },
   "outputs": [
    {
     "name": "stdout",
     "output_type": "stream",
     "text": [
      "This is loop iteration 0\n",
      "This is loop iteration 1\n",
      "This is loop iteration 2\n",
      "This is loop iteration 3\n",
      "This is loop iteration 4\n"
     ]
    }
   ],
   "source": [
    "for i in range(5):\n",
    "    print(\"This is loop iteration\", i)"
   ]
  },
  {
   "cell_type": "code",
   "execution_count": 7,
   "id": "30e4ab9d-d8c0-4137-adc9-6aa4a8aaa57a",
   "metadata": {
    "tags": []
   },
   "outputs": [
    {
     "name": "stdout",
     "output_type": "stream",
     "text": [
      "This is loop iteration 0\n",
      "This is loop iteration 1\n",
      "This is loop iteration 2\n",
      "This is loop iteration 3\n",
      "This is loop iteration 4\n"
     ]
    }
   ],
   "source": [
    "num = 0\n",
    "\n",
    "while num <5:\n",
    "    print(\"This is loop iteration\",num)\n",
    "    num+=1"
   ]
  },
  {
   "cell_type": "markdown",
   "id": "260cd173-0220-4107-a928-bd2a7bf76975",
   "metadata": {},
   "source": [
    "#### Break and Continue Statements\n",
    "\n",
    "During loops, you might want to break out or skip certain iterations. This is where \"break\" and \"continue\" come in."
   ]
  },
  {
   "cell_type": "code",
   "execution_count": 8,
   "id": "7f04db0e-7e7a-41ea-a3a5-8d06d939c1d3",
   "metadata": {
    "tags": []
   },
   "outputs": [
    {
     "name": "stdout",
     "output_type": "stream",
     "text": [
      "Current number: 1\n",
      "Current number: 3\n"
     ]
    }
   ],
   "source": [
    "for num in range(10):\n",
    "    if num == 5:\n",
    "        break  # Exit the loop if num is 5\n",
    "    elif num % 2 == 0:\n",
    "        continue  # Skip even numbers\n",
    "    print(\"Current number:\", num)"
   ]
  },
  {
   "cell_type": "markdown",
   "id": "8ce222c0-30a6-470c-9690-b8c2c2d634e6",
   "metadata": {},
   "source": [
    "#### Functions\n",
    "\n",
    "Flow control is also about managing when and where your functions run. Functions help you avoid repeating code and make your program more modular."
   ]
  },
  {
   "cell_type": "code",
   "execution_count": 9,
   "id": "d4fa71aa-8be9-4a1f-9e50-bcf911c579b4",
   "metadata": {
    "tags": []
   },
   "outputs": [
    {
     "name": "stdout",
     "output_type": "stream",
     "text": [
      "Hello, Alice!\n",
      "Hi there!\n"
     ]
    }
   ],
   "source": [
    "def greet(name):\n",
    "    if name == \"Alice\":\n",
    "        return \"Hello, Alice!\"\n",
    "    else:\n",
    "        return \"Hi there!\"\n",
    "\n",
    "print(greet(\"Alice\"))\n",
    "print(greet(\"Bob\"))"
   ]
  },
  {
   "cell_type": "markdown",
   "id": "6f467eaf-00d8-4536-b059-d36c0fbb6b34",
   "metadata": {},
   "source": [
    "#### Combining Flow Control\n",
    "\n",
    "You can mix and match these flow control tools. Imagine making a program that counts from 1 to 100 but prints \"Fizz\" for multiples of 3 and \"Buzz\" for multiples of 5:"
   ]
  },
  {
   "cell_type": "code",
   "execution_count": 11,
   "id": "b68a345c-347a-4526-bb41-256a438d9c11",
   "metadata": {
    "collapsed": true,
    "jupyter": {
     "outputs_hidden": true
    },
    "tags": []
   },
   "outputs": [
    {
     "name": "stdout",
     "output_type": "stream",
     "text": [
      "1\n",
      "2\n",
      "Fizz 3\n",
      "4\n",
      "Buzz 5\n",
      "Fizz 6\n",
      "7\n",
      "8\n",
      "Fizz 9\n",
      "Buzz 10\n",
      "11\n",
      "Fizz 12\n",
      "13\n",
      "14\n",
      "FizzBuzz 15\n",
      "16\n",
      "17\n",
      "Fizz 18\n",
      "19\n",
      "Buzz 20\n",
      "Fizz 21\n",
      "22\n",
      "23\n",
      "Fizz 24\n",
      "Buzz 25\n",
      "26\n",
      "Fizz 27\n",
      "28\n",
      "29\n",
      "FizzBuzz 30\n",
      "31\n",
      "32\n",
      "Fizz 33\n",
      "34\n",
      "Buzz 35\n",
      "Fizz 36\n",
      "37\n",
      "38\n",
      "Fizz 39\n",
      "Buzz 40\n",
      "41\n",
      "Fizz 42\n",
      "43\n",
      "44\n",
      "FizzBuzz 45\n",
      "46\n",
      "47\n",
      "Fizz 48\n",
      "49\n",
      "Buzz 50\n",
      "Fizz 51\n",
      "52\n",
      "53\n",
      "Fizz 54\n",
      "Buzz 55\n",
      "56\n",
      "Fizz 57\n",
      "58\n",
      "59\n",
      "FizzBuzz 60\n",
      "61\n",
      "62\n",
      "Fizz 63\n",
      "64\n",
      "Buzz 65\n",
      "Fizz 66\n",
      "67\n",
      "68\n",
      "Fizz 69\n",
      "Buzz 70\n",
      "71\n",
      "Fizz 72\n",
      "73\n",
      "74\n",
      "FizzBuzz 75\n",
      "76\n",
      "77\n",
      "Fizz 78\n",
      "79\n",
      "Buzz 80\n",
      "Fizz 81\n",
      "82\n",
      "83\n",
      "Fizz 84\n",
      "Buzz 85\n",
      "86\n",
      "Fizz 87\n",
      "88\n",
      "89\n",
      "FizzBuzz 90\n",
      "91\n",
      "92\n",
      "Fizz 93\n",
      "94\n",
      "Buzz 95\n",
      "Fizz 96\n",
      "97\n",
      "98\n",
      "Fizz 99\n",
      "Buzz 100\n"
     ]
    }
   ],
   "source": [
    "for num in range(1, 101):\n",
    "    if num % 3 == 0 and num % 5 == 0:\n",
    "        print(\"FizzBuzz\", num)\n",
    "    elif num % 3 == 0:\n",
    "        print(\"Fizz\", num)\n",
    "    elif num % 5 == 0:\n",
    "        print(\"Buzz\", num)\n",
    "    else:\n",
    "        print(num)"
   ]
  },
  {
   "cell_type": "markdown",
   "id": "ea114e7d-2ff1-4408-b4a7-3fb481319128",
   "metadata": {},
   "source": [
    "#### Conclusion\n",
    "\n",
    "Flow control is the art of guiding your program's execution to meet your intentions. It involves thinking logically, making decisions, and automating repetitive tasks. Understanding these concepts is crucial in writing effective and efficient code. It's like having a roadmap to navigate through your program, ensuring it functions as intended."
   ]
  },
  {
   "cell_type": "markdown",
   "id": "8b60a8ca-d12a-4dc6-b0b4-3107c7a279dc",
   "metadata": {},
   "source": [
    "### Array Types\n",
    "\n",
    "Imagine you have a bunch of numbers you want to keep together. Instead of creating separate variables for each number, you can use an array. It's like a list of related data."
   ]
  },
  {
   "cell_type": "code",
   "execution_count": 12,
   "id": "d380bb3e-f1f5-4300-9af8-b6837a27ee45",
   "metadata": {
    "tags": []
   },
   "outputs": [],
   "source": [
    "# defning an array\n",
    "ages = [25, 30, 22, 18, 35]"
   ]
  },
  {
   "cell_type": "markdown",
   "id": "45010781-30b2-486f-b1fa-57699dd59a2a",
   "metadata": {},
   "source": [
    "#### Accessing Array Elements\n",
    "\n",
    "It's super easy to grab data from an array. Just use an index, which is like a location number. But here's the trick: indexing starts at 0."
   ]
  },
  {
   "cell_type": "code",
   "execution_count": 13,
   "id": "41b605a1-3277-4e34-aa7c-26ac1d1b8645",
   "metadata": {
    "tags": []
   },
   "outputs": [
    {
     "name": "stdout",
     "output_type": "stream",
     "text": [
      "25\n",
      "22\n"
     ]
    }
   ],
   "source": [
    "print(ages[0])  # Prints 25\n",
    "print(ages[2])  # Prints 22"
   ]
  },
  {
   "cell_type": "markdown",
   "id": "dba6f52b-6f50-4dae-9967-0eada0f4a94b",
   "metadata": {},
   "source": [
    "#### Array Length\n",
    "\n",
    "Arrays can be of different lengths. And you can find out how many items are in an array using the `len()` function."
   ]
  },
  {
   "cell_type": "code",
   "execution_count": 14,
   "id": "0385cbd1-363c-441c-8c35-82d8160a5dd0",
   "metadata": {
    "tags": []
   },
   "outputs": [
    {
     "name": "stdout",
     "output_type": "stream",
     "text": [
      "5\n"
     ]
    }
   ],
   "source": [
    "print(len(ages))  # Prints 5"
   ]
  },
  {
   "cell_type": "markdown",
   "id": "d259dcd5-9c15-4d45-bb29-0c14fae4a9b9",
   "metadata": {},
   "source": [
    "#### Looping Through Arrays\n",
    "\n",
    "Arrays and loops go hand in hand. You can loop through an array to access each element one by one."
   ]
  },
  {
   "cell_type": "code",
   "execution_count": 15,
   "id": "4de71cd0-4e8e-41fc-9cfd-7092b3fc8583",
   "metadata": {
    "tags": []
   },
   "outputs": [
    {
     "name": "stdout",
     "output_type": "stream",
     "text": [
      "Age: 25\n",
      "Age: 30\n",
      "Age: 22\n",
      "Age: 18\n",
      "Age: 35\n"
     ]
    }
   ],
   "source": [
    "for age in ages:\n",
    "    print(\"Age:\", age)"
   ]
  },
  {
   "cell_type": "markdown",
   "id": "cf9d0fcd-cbaa-4e7b-926f-30c136a54c86",
   "metadata": {},
   "source": [
    "#### Modifying Arrays\n",
    "\n",
    "You can change the values in an array after you've created it."
   ]
  },
  {
   "cell_type": "code",
   "execution_count": 16,
   "id": "2ba047bb-ecb3-4882-b43b-2f2081ddc517",
   "metadata": {
    "tags": []
   },
   "outputs": [
    {
     "name": "stdout",
     "output_type": "stream",
     "text": [
      "[25, 32, 22, 18, 35]\n"
     ]
    }
   ],
   "source": [
    "ages[1] = 32  # Update the second element to 32\n",
    "print(ages)   # [25, 32, 22, 18, 35]"
   ]
  },
  {
   "cell_type": "markdown",
   "id": "b686bab1-5f47-4b28-bae5-40ba1c737e81",
   "metadata": {},
   "source": [
    "#### Appending Elements\n",
    "\n",
    "Sometimes you want to add something new to an array. Use the append() method."
   ]
  },
  {
   "cell_type": "code",
   "execution_count": 17,
   "id": "3dde6740-b9e5-431b-af0d-22322e66bd05",
   "metadata": {
    "tags": []
   },
   "outputs": [
    {
     "name": "stdout",
     "output_type": "stream",
     "text": [
      "[25, 32, 22, 18, 35, 40]\n"
     ]
    }
   ],
   "source": [
    "ages.append(40)  # Adds 40 to the end\n",
    "print(ages)      # [25, 32, 22, 18, 35, 40]"
   ]
  },
  {
   "cell_type": "markdown",
   "id": "12ce2244-abbc-4bdd-9bce-2d7350ebdae1",
   "metadata": {},
   "source": [
    "#### Multidimensional Arrays\n",
    "\n",
    "What if you want to store more complex data? Use multidimensional arrays. It's like a table within a table."
   ]
  },
  {
   "cell_type": "code",
   "execution_count": 18,
   "id": "159d439d-7183-4b20-8006-db6fb11ece73",
   "metadata": {
    "tags": []
   },
   "outputs": [
    {
     "name": "stdout",
     "output_type": "stream",
     "text": [
      "2\n"
     ]
    }
   ],
   "source": [
    "matrix = [[1, 2, 3], [4, 5, 6], [7, 8, 9]]\n",
    "print(matrix[0][1])  # Prints 2"
   ]
  },
  {
   "cell_type": "markdown",
   "id": "e2ada8ce-c455-4a02-b7a5-628e8911fa5f",
   "metadata": {},
   "source": [
    "#### Slicing Arrays\n",
    "\n",
    "You can also slice arrays to get a subset of items."
   ]
  },
  {
   "cell_type": "code",
   "execution_count": 19,
   "id": "419c8cd8-74b7-47d3-9b75-b11bcd3f9d18",
   "metadata": {
    "tags": []
   },
   "outputs": [
    {
     "name": "stdout",
     "output_type": "stream",
     "text": [
      "[32, 22, 18]\n"
     ]
    }
   ],
   "source": [
    "subset = ages[1:4]  # Gets elements from index 1 to 3\n",
    "print(subset)       # [32, 22, 18]"
   ]
  },
  {
   "cell_type": "markdown",
   "id": "f2068a84-8d92-48b9-9637-b808cf41d626",
   "metadata": {},
   "source": [
    "#### Array Functions\n",
    "\n",
    "Python has built-in functions that work with arrays. For example, finding the maximum value."
   ]
  },
  {
   "cell_type": "code",
   "execution_count": 20,
   "id": "2ff0dbac-0781-4866-a267-25456fb768ae",
   "metadata": {
    "tags": []
   },
   "outputs": [
    {
     "name": "stdout",
     "output_type": "stream",
     "text": [
      "40\n"
     ]
    }
   ],
   "source": [
    "max_age = max(ages)\n",
    "print(max_age)  # Prints 40"
   ]
  },
  {
   "cell_type": "markdown",
   "id": "8176db68-b840-463e-a8da-a2e28b6a9be9",
   "metadata": {},
   "source": [
    "Array types are like organized containers for your data. They help you keep track of related information and perform various operations on it. Understanding arrays is crucial in programming, as they are used extensively to store and manipulate data efficiently. It's like having a superpower in your coding toolkit!"
   ]
  },
  {
   "cell_type": "markdown",
   "id": "9cfa134f-cf81-4db4-8911-4fab3723fb67",
   "metadata": {},
   "source": [
    "### Working with Files and File Operations\n",
    "\n",
    "Files are those things that store all sorts of information - from text to images to data. When working with files in programming, there are two main operations: reading and writing."
   ]
  },
  {
   "cell_type": "markdown",
   "id": "4745c899-1120-4ade-9826-ce29118a45b5",
   "metadata": {},
   "source": [
    "#### Opening and Closing Files\n",
    "\n",
    "To work with a file, you need to open it first. Python makes it super simple:"
   ]
  },
  {
   "cell_type": "code",
   "execution_count": null,
   "id": "035c9eb8-173d-4c83-b876-bcb38cbfd973",
   "metadata": {},
   "outputs": [],
   "source": [
    "# Opening a file for reading\n",
    "file = open(\"example.txt\", \"r\")  # \"r\" for read mode\n",
    "\n",
    "# Closing the file\n",
    "file.close()"
   ]
  },
  {
   "cell_type": "code",
   "execution_count": null,
   "id": "12faef96-410a-4c51-b4ca-75accf521f2a",
   "metadata": {},
   "outputs": [],
   "source": [
    "# A better way to do the same:\n",
    "# A safer way using \"with\" statement\n",
    "with open(\"example.txt\", \"r\") as file:\n",
    "    # Do your file operations here\n",
    "    # No need to worry about closing the file"
   ]
  },
  {
   "cell_type": "markdown",
   "id": "e675c6e0-16f0-46c7-a7f5-e1e6d453ec79",
   "metadata": {},
   "source": [
    "#### Writing to Files\n",
    "\n",
    "Creating a file and writing to it is equally simple."
   ]
  },
  {
   "cell_type": "code",
   "execution_count": null,
   "id": "6ff4ecf9-737a-4932-84a8-63486b32fd37",
   "metadata": {},
   "outputs": [],
   "source": [
    "with open(\"example.txt\", \"w\") as file:\n",
    "    file.write(\"Hello, this is a new file!\")"
   ]
  },
  {
   "cell_type": "markdown",
   "id": "35ce8eda-a89f-4320-a943-2c3aa8e64897",
   "metadata": {},
   "source": [
    "#### Reading Files\n",
    "\n",
    "Reading files is a breeze. Let's start with the basics."
   ]
  },
  {
   "cell_type": "code",
   "execution_count": null,
   "id": "12369fc4-954f-4d37-985c-ee5668ba2c43",
   "metadata": {},
   "outputs": [],
   "source": [
    "with open(\"example.txt\", \"r\") as file:\n",
    "    content = file.read()\n",
    "    print(content)"
   ]
  },
  {
   "cell_type": "markdown",
   "id": "c36be15b-b9b0-4e77-ac77-a14de2f8061f",
   "metadata": {},
   "source": [
    "#### Working with CSV Files\n",
    "\n",
    "CSV files are super common in data science. They're like spreadsheets. We can use the csv library to handle them."
   ]
  },
  {
   "cell_type": "code",
   "execution_count": null,
   "id": "df0cffd8-da75-4efc-8083-caa32fe4963b",
   "metadata": {},
   "outputs": [],
   "source": [
    "import csv\n",
    "\n",
    "# Reading CSV\n",
    "with open(\"data.csv\", \"r\") as file:\n",
    "    csv_reader = csv.reader(file)\n",
    "    for row in csv_reader:\n",
    "        print(row)"
   ]
  },
  {
   "cell_type": "markdown",
   "id": "ce87ec67-b00d-4d75-85bc-34cc1b4af019",
   "metadata": {},
   "source": [
    "#### JSON Files\n",
    "\n",
    "JSON is another popular format. It's used for structured data. Python has a built-in module to handle JSON."
   ]
  },
  {
   "cell_type": "code",
   "execution_count": null,
   "id": "4d73acc1-c515-4957-bbc4-e3d812461820",
   "metadata": {},
   "outputs": [],
   "source": [
    "import json\n",
    "\n",
    "# Reading JSON\n",
    "with open(\"data.json\", \"r\") as file:\n",
    "    data = json.load(file)\n",
    "    print(data)"
   ]
  },
  {
   "cell_type": "markdown",
   "id": "180ea828-ba55-4c8a-867e-6b8b00614cdd",
   "metadata": {},
   "source": [
    "Files are like little data treasure chests. You can read from them, write to them, and play with different formats like CSV and JSON. This skill is a must-have in your data science journey. So, go ahead, create, read, and explore the data world through files!"
   ]
  },
  {
   "cell_type": "markdown",
   "id": "18febcd2-bf46-470b-a390-2d8b5f402991",
   "metadata": {},
   "source": [
    "### Dictionaries, Tuples, and Sets: Your Data Superheroes"
   ]
  },
  {
   "cell_type": "markdown",
   "id": "5c1cb9f0-6e3d-43fc-803b-59fe370db294",
   "metadata": {},
   "source": [
    "#### Dictionaries: Your Key-Value Buddies\n",
    "\n",
    "Imagine you have a real-life dictionary. You look up a word (the key), and you get its meaning (the value). Python dictionaries work the same way."
   ]
  },
  {
   "cell_type": "code",
   "execution_count": 21,
   "id": "c900794c-e1d3-4c2b-9681-fa542769df8e",
   "metadata": {
    "tags": []
   },
   "outputs": [
    {
     "name": "stdout",
     "output_type": "stream",
     "text": [
      "Alice\n"
     ]
    }
   ],
   "source": [
    "# Creating a dictionary\n",
    "student = {\n",
    "    \"name\": \"Alice\",\n",
    "    \"age\": 21,\n",
    "    \"major\": \"Computer Science\"\n",
    "}\n",
    "\n",
    "# Accessing values\n",
    "print(student[\"name\"])  # Output: Alice"
   ]
  },
  {
   "cell_type": "markdown",
   "id": "b3d40a56-1e97-48b1-9f0a-10b58980e3b7",
   "metadata": {},
   "source": [
    "Dictionaries are super flexible. You can add, update, or delete values. Just like having your personal data playground!"
   ]
  },
  {
   "cell_type": "markdown",
   "id": "280f07f8-5338-4ecf-ba40-25ccbe83a84f",
   "metadata": {},
   "source": [
    "#### Tuples: Ordered Immutable Goodness"
   ]
  },
  {
   "cell_type": "markdown",
   "id": "1b9bd640-c306-4588-ac16-2f0d71851e78",
   "metadata": {},
   "source": [
    "Tuples are like lists, but fancier. They're ordered, immutable (you can't change them), and can hold different data types."
   ]
  },
  {
   "cell_type": "code",
   "execution_count": 22,
   "id": "31f86b18-8786-4fc8-9029-ff485d96d722",
   "metadata": {
    "tags": []
   },
   "outputs": [
    {
     "name": "stdout",
     "output_type": "stream",
     "text": [
      "3\n"
     ]
    }
   ],
   "source": [
    "# Creating a tuple\n",
    "point = (3, 7)\n",
    "\n",
    "# Accessing values\n",
    "print(point[0])  # Output: 3"
   ]
  },
  {
   "cell_type": "markdown",
   "id": "5c4fa5b3-4537-42de-a393-55461b7925a4",
   "metadata": {},
   "source": [
    "Tuples are awesome when you want to keep data together without the risk of accidentally modifying it. They're like sealed envelopes for your data."
   ]
  },
  {
   "cell_type": "markdown",
   "id": "1e0bd120-fd1b-40c1-9020-a4281c3a4783",
   "metadata": {},
   "source": [
    "#### Sets: Unique Collection Wizards\n",
    "\n",
    "Sets are magical collections that can only contain unique elements. They're like a group of friends with no duplicates!"
   ]
  },
  {
   "cell_type": "code",
   "execution_count": 23,
   "id": "823dd589-5cf0-4958-a54a-c8c3e6427f18",
   "metadata": {
    "tags": []
   },
   "outputs": [
    {
     "name": "stdout",
     "output_type": "stream",
     "text": [
      "True\n"
     ]
    }
   ],
   "source": [
    "# Creating a set\n",
    "fruits = {\"apple\", \"banana\", \"orange\"}\n",
    "\n",
    "# Adding and removing\n",
    "fruits.add(\"grape\")\n",
    "fruits.remove(\"banana\")\n",
    "\n",
    "# Check if an item exists\n",
    "print(\"apple\" in fruits)  # Output: True\n"
   ]
  },
  {
   "cell_type": "markdown",
   "id": "5323681c-60f4-489b-8c2d-0b6b2742c05a",
   "metadata": {},
   "source": [
    "Sets are your go-to when you need to eliminate duplicates and perform cool set operations like union and intersection."
   ]
  },
  {
   "cell_type": "markdown",
   "id": "2461f529-831a-4b84-9b33-5e607c9fee2d",
   "metadata": {},
   "source": [
    "#### Mix and Match\n",
    "\n",
    "Now, here's where things get interesting. You can mix these data structures to create complex, powerful structures."
   ]
  },
  {
   "cell_type": "code",
   "execution_count": 24,
   "id": "7ff5c50e-0cf4-4a3c-a925-7f5099999af5",
   "metadata": {
    "tags": []
   },
   "outputs": [],
   "source": [
    "# Creating a dictionary of sets\n",
    "classes = {\n",
    "    \"math\": {\"Alice\", \"Bob\"},\n",
    "    \"history\": {\"Charlie\", \"David\"}\n",
    "}\n",
    "\n",
    "# Creating a list of tuples\n",
    "coordinates = [(1, 2), (3, 4), (5, 6)]\n"
   ]
  },
  {
   "cell_type": "markdown",
   "id": "080249e7-5f48-4345-85e3-dbfc5c3b5d63",
   "metadata": {},
   "source": [
    "Use Cases\n",
    "\n",
    "- Dictionaries: Perfect for storing user profiles, settings, and any data that has a label.\n",
    "- Tuples: Great when you want to keep related data together, like coordinates or date and time.\n",
    "- Sets: Ideal for eliminating duplicates and checking for membership in a collection."
   ]
  },
  {
   "cell_type": "markdown",
   "id": "8a34fe3f-a790-47fb-aad0-636898ba6704",
   "metadata": {},
   "source": [
    "So, there you have it, the trio of Python's data wonders: dictionaries, tuples, and sets. They're your allies in handling data smartly and efficiently. They come with their unique powers, ready to tackle whatever data adventure you embark upon. Happy coding, explorer!"
   ]
  },
  {
   "cell_type": "code",
   "execution_count": null,
   "id": "1927920a-9857-4e3b-aa19-0ac931c26e52",
   "metadata": {},
   "outputs": [],
   "source": []
  }
 ],
 "metadata": {
  "kernelspec": {
   "display_name": "Python 3 (ipykernel)",
   "language": "python",
   "name": "python3"
  },
  "language_info": {
   "codemirror_mode": {
    "name": "ipython",
    "version": 3
   },
   "file_extension": ".py",
   "mimetype": "text/x-python",
   "name": "python",
   "nbconvert_exporter": "python",
   "pygments_lexer": "ipython3",
   "version": "3.7.16"
  }
 },
 "nbformat": 4,
 "nbformat_minor": 5
}
