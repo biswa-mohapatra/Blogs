{
 "cells": [
  {
   "cell_type": "markdown",
   "id": "3280bdb3-a2dd-405f-958e-2b7277fce1ac",
   "metadata": {},
   "source": [
    "# Contents\n",
    "\n",
    "- Functions\n",
    "- Sorting\n",
    "- Errors and Exception Handling\n",
    "- Modules and Packages\n",
    "- Highlights of the Standard Library\n",
    "- An Introduction to Python Classes\n",
    "- Introduction to Databases"
   ]
  },
  {
   "cell_type": "markdown",
   "id": "a233f479-f06c-4ba6-8b4f-e9055c4d3189",
   "metadata": {},
   "source": [
    "## Functions:\n",
    "Let's dive into the world of Python functions in a simple and understandable way. Imagine functions like cooking recipes – you input ingredients, and you get a delicious dish. In programming, you input data, and you get a result! So, let's break it down step by step.\n",
    "\n",
    "### What is a Function?\n",
    "\n",
    "A function in Python is like a mini-program within a program. It's a block of code that takes some input, processes it, and gives an output. This helps in writing organized and reusable code."
   ]
  },
  {
   "cell_type": "markdown",
   "id": "fbea52b8-2bf7-47f3-969f-b243a18d8833",
   "metadata": {},
   "source": [
    "#### Defining a Function\n",
    "\n",
    "Here's how you create a function:"
   ]
  },
  {
   "cell_type": "code",
   "execution_count": 1,
   "id": "45d77ed2-ee02-460f-9858-e665d944f8c8",
   "metadata": {
    "tags": []
   },
   "outputs": [],
   "source": [
    "def greet(name):\n",
    "    print(\"Hello, \" + name + \"!\")"
   ]
  },
  {
   "cell_type": "markdown",
   "id": "a0d22509-e489-4e71-82fe-03d9d851a83a",
   "metadata": {},
   "source": [
    "Here, `def` is like your chef's hat, and `greet` is the name of the recipe. `(name)` are the ingredients you need."
   ]
  },
  {
   "cell_type": "markdown",
   "id": "95da9168-880c-4a35-903a-809778704a04",
   "metadata": {},
   "source": [
    "Now, you can use your recipe – call the function:"
   ]
  },
  {
   "cell_type": "code",
   "execution_count": 2,
   "id": "8769b20b-7365-4c07-8090-a76d62922765",
   "metadata": {
    "tags": []
   },
   "outputs": [
    {
     "name": "stdout",
     "output_type": "stream",
     "text": [
      "Hello, Alice!\n",
      "Hello, Bob!\n"
     ]
    }
   ],
   "source": [
    "greet(\"Alice\")\n",
    "greet(\"Bob\")"
   ]
  },
  {
   "cell_type": "markdown",
   "id": "8e1e07a9-2da0-4bb9-8807-229e2ce237cb",
   "metadata": {},
   "source": [
    "#### Returning Values\n",
    "\n",
    "Functions can also give you back something. Think of it as a takeaway from a restaurant. Let's modify our recipe:"
   ]
  },
  {
   "cell_type": "code",
   "execution_count": 3,
   "id": "dad2fd2a-cc33-4a51-a59e-9ce71ab147a0",
   "metadata": {
    "tags": []
   },
   "outputs": [],
   "source": [
    "def add(a, b):\n",
    "    result = a + b\n",
    "    return result"
   ]
  },
  {
   "cell_type": "code",
   "execution_count": 4,
   "id": "85fa4e04-ea4a-4e0e-92ec-9be74b28bbd2",
   "metadata": {
    "tags": []
   },
   "outputs": [
    {
     "name": "stdout",
     "output_type": "stream",
     "text": [
      "The sum is: 8\n"
     ]
    }
   ],
   "source": [
    "sum = add(5, 3)\n",
    "print(\"The sum is:\", sum)"
   ]
  },
  {
   "cell_type": "markdown",
   "id": "a07d6cbf-ac84-43c7-b643-05b678e7dbb8",
   "metadata": {},
   "source": [
    "#### Default Values\n",
    "\n",
    "Imagine your recipe has default ingredients, but you can still change them. Functions work the same way. For instance:"
   ]
  },
  {
   "cell_type": "code",
   "execution_count": 5,
   "id": "a0df66a1-b71e-4dfb-9f96-3082d3cad104",
   "metadata": {
    "tags": []
   },
   "outputs": [],
   "source": [
    "def greet(name=\"Guest\"):\n",
    "    print(\"Hello, \" + name + \"!\")\n"
   ]
  },
  {
   "cell_type": "code",
   "execution_count": 6,
   "id": "efbbb10f-bd57-4757-af32-0475814293ad",
   "metadata": {
    "tags": []
   },
   "outputs": [
    {
     "name": "stdout",
     "output_type": "stream",
     "text": [
      "Hello, Guest!\n",
      "Hello, Alice!\n"
     ]
    }
   ],
   "source": [
    "greet()\n",
    "greet(\"Alice\")"
   ]
  },
  {
   "cell_type": "markdown",
   "id": "826d3a5c-fc39-474e-a60d-aec77810a55a",
   "metadata": {},
   "source": [
    "#### Scope of Variables\n",
    "\n",
    "Think of variables inside a function like ingredients available only in that kitchen. They don't affect the rest of your cooking."
   ]
  },
  {
   "cell_type": "code",
   "execution_count": 7,
   "id": "772f4337-72b0-4c4a-800e-eafe2f8c13e7",
   "metadata": {
    "tags": []
   },
   "outputs": [
    {
     "name": "stdout",
     "output_type": "stream",
     "text": [
      "Cooking with tomato\n",
      "Eating apple\n"
     ]
    }
   ],
   "source": [
    "def cooking():\n",
    "    ingredient = \"tomato\"\n",
    "    print(\"Cooking with\", ingredient)\n",
    "\n",
    "ingredient = \"apple\"\n",
    "cooking()\n",
    "print(\"Eating\", ingredient)"
   ]
  },
  {
   "cell_type": "markdown",
   "id": "1e717704-9fed-47bf-9ac7-1e9c51d0ad1d",
   "metadata": {},
   "source": [
    "#### Putting it all together\n",
    "\n",
    "Now let's combine everything to build something called tax calculator. Here we will see how to use python functions to reuse the same logic for diffrent outputs. Let's say, for example we have an annual income and a fixed rate of tax is been imposed over it but there's a catch. For example, the tax rate is always constant for a range of salary slab. For instance, a person with income over 7lpa will be imposed with a different tax rate than a person under 7lpa. Keeping this in mind, lets build it."
   ]
  },
  {
   "cell_type": "code",
   "execution_count": 8,
   "id": "18fe9ff5-90f6-4776-9715-eab5b1243a23",
   "metadata": {
    "tags": []
   },
   "outputs": [
    {
     "name": "stdout",
     "output_type": "stream",
     "text": [
      "Tax for income 1: 7500.0\n",
      "Tax for income 2: 15000.0\n"
     ]
    }
   ],
   "source": [
    "def calculate_tax(income, tax_rate=0.15):\n",
    "    tax = income * tax_rate\n",
    "    return tax\n",
    "\n",
    "income1 = 50000\n",
    "tax1 = calculate_tax(income1)\n",
    "print(\"Tax for income 1:\", tax1)\n",
    "\n",
    "income2 = 75000\n",
    "tax2 = calculate_tax(income2, 0.2)\n",
    "print(\"Tax for income 2:\", tax2)"
   ]
  },
  {
   "cell_type": "markdown",
   "id": "f6c83364-7bab-4386-aad6-74ecb39d7912",
   "metadata": {},
   "source": [
    "## Sorting\n",
    "\n",
    "Sorting is a fundamental concept in programming that involves arranging a collection of elements in a specific order. This helps in better organization of data and efficient searching. In this explanation, we'll use a simple example and Python's built-in sorting functions to illustrate the concept."
   ]
  },
  {
   "cell_type": "markdown",
   "id": "04e78047-d63b-4041-8ca2-9208ee9ea2be",
   "metadata": {},
   "source": [
    "Imagine you have a list of numbers: `[10, 3, 7, 1, 5]`. Sorting this list means arranging these numbers in either ascending (smallest to largest) or descending (largest to smallest) order."
   ]
  },
  {
   "cell_type": "markdown",
   "id": "6193245b-b23e-4ee6-a35d-71e0664a9060",
   "metadata": {},
   "source": [
    "Python provides us with two primary functions to sort lists: `sorted()` and `list.sort()`. Let's start with `sorted()`:"
   ]
  },
  {
   "cell_type": "code",
   "execution_count": 9,
   "id": "f8f417fe-e3fc-48d6-93e6-57ce471f7d11",
   "metadata": {
    "tags": []
   },
   "outputs": [
    {
     "name": "stdout",
     "output_type": "stream",
     "text": [
      "[1, 3, 5, 7, 10]\n"
     ]
    }
   ],
   "source": [
    "numbers = [10, 3, 7, 1, 5]\n",
    "sorted_numbers = sorted(numbers)  # Sorting in ascending order\n",
    "print(sorted_numbers)"
   ]
  },
  {
   "cell_type": "markdown",
   "id": "150064bc-a800-4dbf-953a-39a0b21df88f",
   "metadata": {},
   "source": [
    "This code uses the `sorted()` function to create a new sorted list without modifying the original list. The output will be `[1, 3, 5, 7, 10]`.\n",
    "\n",
    "If you want to sort the list in-place (modify the original list), you can use the `list.sort()` function:"
   ]
  },
  {
   "cell_type": "code",
   "execution_count": 10,
   "id": "1d1a332b-4817-43ea-a5fc-96586198e530",
   "metadata": {
    "tags": []
   },
   "outputs": [
    {
     "name": "stdout",
     "output_type": "stream",
     "text": [
      "[1, 3, 5, 7, 10]\n"
     ]
    }
   ],
   "source": [
    "numbers = [10, 3, 7, 1, 5]\n",
    "numbers.sort()  # Sorting in ascending order\n",
    "print(numbers)"
   ]
  },
  {
   "cell_type": "markdown",
   "id": "173bd50c-e5a0-48ed-8f29-358bdd4eb89d",
   "metadata": {},
   "source": [
    "#### Sorting in Descending Order\n",
    "\n",
    "To sort the list in descending order, you can use the `reverse` parameter:"
   ]
  },
  {
   "cell_type": "code",
   "execution_count": 11,
   "id": "0d58ae8c-651a-4d37-85a3-c977fa200550",
   "metadata": {
    "tags": []
   },
   "outputs": [
    {
     "name": "stdout",
     "output_type": "stream",
     "text": [
      "[10, 7, 5, 3, 1]\n"
     ]
    }
   ],
   "source": [
    "numbers = [10, 3, 7, 1, 5]\n",
    "sorted_numbers_desc = sorted(numbers, reverse=True)  # Sorting in descending order\n",
    "print(sorted_numbers_desc)"
   ]
  },
  {
   "cell_type": "markdown",
   "id": "3d7bf886-98d5-467f-b275-d9587b230b7b",
   "metadata": {},
   "source": [
    "#### Sorting Non-Numeric Data\n",
    "\n",
    "Sorting is not limited to numbers. You can sort strings and other data types as well:"
   ]
  },
  {
   "cell_type": "code",
   "execution_count": 12,
   "id": "8959e452-b917-4ca2-86a2-5038a18ee531",
   "metadata": {
    "tags": []
   },
   "outputs": [
    {
     "name": "stdout",
     "output_type": "stream",
     "text": [
      "['apple', 'banana', 'cherry', 'date']\n"
     ]
    }
   ],
   "source": [
    "fruits = [\"apple\", \"banana\", \"cherry\", \"date\"]\n",
    "sorted_fruits = sorted(fruits)  # Sorting strings alphabetically\n",
    "print(sorted_fruits)"
   ]
  },
  {
   "cell_type": "markdown",
   "id": "5d7f1a14-4f06-4c83-ac24-fa9ca3fcfdd7",
   "metadata": {},
   "source": [
    "#### Custom Sorting with `key` Parameter\n",
    "\n",
    "Sometimes, you may want to sort based on specific criteria. The `key` parameter allows you to provide a function that returns a value to determine the order. For example, sorting strings by their lengths:"
   ]
  },
  {
   "cell_type": "code",
   "execution_count": 13,
   "id": "0cfc0b73-5f04-47f1-9046-7c8792fe2527",
   "metadata": {
    "tags": []
   },
   "outputs": [
    {
     "name": "stdout",
     "output_type": "stream",
     "text": [
      "['date', 'apple', 'banana', 'cherry']\n"
     ]
    }
   ],
   "source": [
    "words = [\"apple\", \"banana\", \"cherry\", \"date\"]\n",
    "sorted_words_length = sorted(words, key=len)  # Sorting by string length\n",
    "print(sorted_words_length)"
   ]
  },
  {
   "cell_type": "markdown",
   "id": "abc983ca-dcf1-4489-adcd-2cb2bc655da2",
   "metadata": {},
   "source": [
    "Sorting is a crucial skill in programming. It helps organize data and enables efficient searching and analysis. Python's built-in sorting functions, `sorted()` and `list.sort()`, make it easy to sort lists of various data types. Remember, understanding sorting is essential as it forms the foundation for more complex algorithms and data manipulation tasks."
   ]
  },
  {
   "cell_type": "markdown",
   "id": "5886808e-3c9f-4f48-a490-b04645cb5aa2",
   "metadata": {},
   "source": [
    "## Exception Handelling"
   ]
  },
  {
   "cell_type": "markdown",
   "id": "29c67bc7-44a4-4425-9ca0-1981e7cdf3af",
   "metadata": {},
   "source": [
    "It's like having a safety net in your code to catch unexpected falls. Don't worry, we'll break it down step by step so it's crystal clear even for a beginner.\n",
    "\n",
    "#### Introduction to Errors and Exceptions\n",
    "\n",
    "Imagine you're baking a cake. You follow the recipe, but what if you accidentally add salt instead of sugar? That's an error, and exceptions in Python are pretty much the same – unexpected things that can go wrong while your code runs.\n",
    "\n",
    "#### Types of Errors\n",
    "\n",
    "Python has different types of errors. Syntax errors are like spelling mistakes that the Python interpreter can't understand. Semantic errors are trickier – your code runs but doesn't give the expected result. Then there are exceptions – these occur during runtime, like when you try to divide by zero.\n",
    "\n",
    "#### Try-Except Blocks\n",
    "\n",
    "Now, let's write some code. Say you're building a calculator and want to avoid crashes if someone tries to divide by zero. You can use a try-except block:"
   ]
  },
  {
   "cell_type": "code",
   "execution_count": 14,
   "id": "7a4863d4-c504-4e25-90a7-550355266383",
   "metadata": {
    "tags": []
   },
   "outputs": [
    {
     "ename": "ZeroDivisionError",
     "evalue": "division by zero",
     "output_type": "error",
     "traceback": [
      "\u001b[1;31m---------------------------------------------------------------------------\u001b[0m",
      "\u001b[1;31mZeroDivisionError\u001b[0m                         Traceback (most recent call last)",
      "\u001b[1;32m~\\AppData\\Local\\Temp\\ipykernel_17500\\3539042244.py\u001b[0m in \u001b[0;36m<module>\u001b[1;34m\u001b[0m\n\u001b[1;32m----> 1\u001b[1;33m \u001b[0mresult\u001b[0m \u001b[1;33m=\u001b[0m \u001b[1;36m10\u001b[0m\u001b[1;33m/\u001b[0m\u001b[1;36m0\u001b[0m\u001b[1;33m\u001b[0m\u001b[1;33m\u001b[0m\u001b[0m\n\u001b[0m",
      "\u001b[1;31mZeroDivisionError\u001b[0m: division by zero"
     ]
    }
   ],
   "source": [
    "result = 10/0"
   ]
  },
  {
   "cell_type": "code",
   "execution_count": 15,
   "id": "709fdfa6-0685-4aa8-a14d-7e68bda77961",
   "metadata": {
    "tags": []
   },
   "outputs": [
    {
     "name": "stdout",
     "output_type": "stream",
     "text": [
      "Oops! You can't divide by zero.\n"
     ]
    }
   ],
   "source": [
    "try:\n",
    "    result = 10 / 0\n",
    "except ZeroDivisionError:\n",
    "    print(\"Oops! You can't divide by zero.\")"
   ]
  },
  {
   "cell_type": "markdown",
   "id": "7eeb83bd-8c41-4ea8-babb-a8252ff070de",
   "metadata": {},
   "source": [
    "Python tries the code inside the `try` block. If an exception occurs, it jumps to the `except` block. So, in this case, the output will be: \"Oops! You can't divide by zero.\""
   ]
  },
  {
   "cell_type": "markdown",
   "id": "f8d41315-cff7-430d-8b03-f32d1c73154f",
   "metadata": {},
   "source": [
    "#### Handling Different Exceptions\n",
    "\n",
    "You can handle various exceptions using different except blocks:"
   ]
  },
  {
   "cell_type": "code",
   "execution_count": 16,
   "id": "612df4c2-edb1-4eba-86c0-e93f834f9fd8",
   "metadata": {
    "tags": []
   },
   "outputs": [
    {
     "name": "stdin",
     "output_type": "stream",
     "text": [
      "Enter a number:  0\n"
     ]
    },
    {
     "name": "stdout",
     "output_type": "stream",
     "text": [
      "You can't divide by zero.\n"
     ]
    }
   ],
   "source": [
    "try:\n",
    "    num = int(input(\"Enter a number: \"))\n",
    "    result = 10 / num\n",
    "except ZeroDivisionError:\n",
    "    print(\"You can't divide by zero.\")\n",
    "except ValueError:\n",
    "    print(\"That's not a valid number.\")"
   ]
  },
  {
   "cell_type": "code",
   "execution_count": 17,
   "id": "a8395db5-f8d9-41ce-b959-f40e350c46d2",
   "metadata": {
    "tags": []
   },
   "outputs": [
    {
     "name": "stdin",
     "output_type": "stream",
     "text": [
      "Enter a number:  O\n"
     ]
    },
    {
     "name": "stdout",
     "output_type": "stream",
     "text": [
      "That's not a valid number.\n"
     ]
    }
   ],
   "source": [
    "try:\n",
    "    num = int(input(\"Enter a number: \"))\n",
    "    result = 10 / num\n",
    "except ZeroDivisionError:\n",
    "    print(\"You can't divide by zero.\")\n",
    "except ValueError:\n",
    "    print(\"That's not a valid number.\")"
   ]
  },
  {
   "cell_type": "code",
   "execution_count": 18,
   "id": "99ed535e-8e83-4f58-bd40-ac8bd66ea708",
   "metadata": {
    "tags": []
   },
   "outputs": [
    {
     "name": "stdin",
     "output_type": "stream",
     "text": [
      "Enter a number:  5\n"
     ]
    },
    {
     "name": "stdout",
     "output_type": "stream",
     "text": [
      "2.0\n"
     ]
    }
   ],
   "source": [
    "try:\n",
    "    num = int(input(\"Enter a number: \"))\n",
    "    result = 10 / num\n",
    "    print(result)\n",
    "except ZeroDivisionError:\n",
    "    print(\"You can't divide by zero.\")\n",
    "except ValueError:\n",
    "    print(\"That's not a valid number.\")"
   ]
  },
  {
   "cell_type": "markdown",
   "id": "21da166b-7e0c-4253-83bb-651102a8f19d",
   "metadata": {},
   "source": [
    "#### Finally and Else\n",
    "\n",
    "You can also use finally to execute code regardless of whether an exception occurs or not. And else can be used to run code if no exception is raised:"
   ]
  },
  {
   "cell_type": "code",
   "execution_count": 19,
   "id": "a86acc90-8223-46dc-95a5-0adff00a71df",
   "metadata": {
    "tags": []
   },
   "outputs": [
    {
     "name": "stdin",
     "output_type": "stream",
     "text": [
      "Enter a number:  2\n"
     ]
    },
    {
     "name": "stdout",
     "output_type": "stream",
     "text": [
      "Result: 5.0\n",
      "Thanks for using the calculator!\n"
     ]
    }
   ],
   "source": [
    "try:\n",
    "    num = int(input(\"Enter a number: \"))\n",
    "    result = 10 / num\n",
    "except ZeroDivisionError:\n",
    "    print(\"You can't divide by zero.\")\n",
    "except ValueError:\n",
    "    print(\"That's not a valid number.\")\n",
    "else:\n",
    "    print(\"Result:\", result)\n",
    "finally:\n",
    "    print(\"Thanks for using the calculator!\")"
   ]
  },
  {
   "cell_type": "markdown",
   "id": "69863dff-b43c-4e97-b973-cd6838febc43",
   "metadata": {},
   "source": [
    "Errors and exceptions are like having a safety net in your code. They help your program handle unexpected issues gracefully. With try-except blocks, you can control how your program reacts to different types of errors, making your code more robust and user-friendly. Remember, even experienced programmers make errors, but with good exception handling, your code can bounce back without crashing."
   ]
  },
  {
   "cell_type": "markdown",
   "id": "c30e3f05-1e34-4820-add8-5227020c1081",
   "metadata": {},
   "source": [
    "## Modules and Packages"
   ]
  },
  {
   "cell_type": "markdown",
   "id": "0cdaf1b0-030a-4cfe-a689-cc331088b15a",
   "metadata": {},
   "source": [
    "Think of them like building blocks for your code – they help you organize and reuse your code efficiently. Don't worry, we'll break it down step by step for any beginner to grasp.\n",
    "\n",
    "#### Introduction to Modules and Packages\n",
    "\n",
    "Imagine you're cooking, and you need various utensils. Instead of making them from scratch each time, you have a drawer with ready-to-use tools. That's exactly what modules and packages are in Python – a way to organize and reuse code.\n",
    "\n",
    "#### Modules - Your Code Blocks\n",
    "\n",
    "Modules are like little code files with specific functionalities. You create a `.py` file with some functions or variables, and that's a module. For example, you can have a module named `calculator.py` with math-related functions.\n",
    "\n",
    "#### Using Modules\n",
    "\n",
    "Let's say you've created a `math_operations.py` module with a function to add numbers. Here's how you use it in another file:\n"
   ]
  },
  {
   "cell_type": "code",
   "execution_count": 21,
   "id": "c3dafb3c-305f-42b9-b678-1da6efd2c4a4",
   "metadata": {
    "tags": []
   },
   "outputs": [
    {
     "name": "stdout",
     "output_type": "stream",
     "text": [
      "8\n"
     ]
    }
   ],
   "source": [
    "# Import the module\n",
    "import math_operations\n",
    "\n",
    "# Use the function\n",
    "result = math_operations.add(5, 3)\n",
    "print(result)  # Output: 8"
   ]
  },
  {
   "cell_type": "markdown",
   "id": "f1056311-48a5-4a99-89f8-a10e6126483b",
   "metadata": {},
   "source": [
    "#### Packages - Organizing Your Modules\n",
    "\n",
    "Now, imagine you have a bunch of modules related to different areas, like math, statistics, and geometry. You can group them together in a package. Packages are just folders with an __init__.py file inside.\n",
    "\n",
    "#### Creating Packages\n",
    "\n",
    "Suppose you want to create a package called science with sub-packages math and stats. Your folder structure would look like this:\n"
   ]
  },
  {
   "cell_type": "markdown",
   "id": "2ee739a7-3092-46e0-ba1e-11774348561e",
   "metadata": {},
   "source": [
    "science/\n",
    "├── __init__.py\n",
    "├── math/\n",
    "│   ├── __init__.py\n",
    "│   ├── calculations.py\n",
    "└── stats/\n",
    "    ├── __init__.py\n",
    "    ├── statistics.py"
   ]
  },
  {
   "cell_type": "code",
   "execution_count": 26,
   "id": "5f8bf82c-ce06-4115-8d8b-6eca2da525e0",
   "metadata": {
    "tags": []
   },
   "outputs": [],
   "source": [
    "from science.math import calculations"
   ]
  },
  {
   "cell_type": "code",
   "execution_count": 28,
   "id": "33ddad75-81a1-4c7c-9bb4-5ce11dbf57dd",
   "metadata": {
    "tags": []
   },
   "outputs": [
    {
     "data": {
      "text/plain": [
       "5"
      ]
     },
     "execution_count": 28,
     "metadata": {},
     "output_type": "execute_result"
    }
   ],
   "source": [
    "calculations.add(2,3)"
   ]
  },
  {
   "cell_type": "code",
   "execution_count": 29,
   "id": "84dd13a6-eb4e-4a92-a73a-9f586fd74f3a",
   "metadata": {
    "tags": []
   },
   "outputs": [],
   "source": [
    "from science.stats import stats"
   ]
  },
  {
   "cell_type": "code",
   "execution_count": 30,
   "id": "c106d9ec-fd1b-4eb0-9d7b-9587f7355f6a",
   "metadata": {
    "tags": []
   },
   "outputs": [
    {
     "data": {
      "text/plain": [
       "3.0"
      ]
     },
     "execution_count": 30,
     "metadata": {},
     "output_type": "execute_result"
    }
   ],
   "source": [
    "coll = [1,2,3,4,5]\n",
    "stats.average(coll)"
   ]
  },
  {
   "cell_type": "markdown",
   "id": "f6041039-4870-4f03-8bc1-9111d76bef0b",
   "metadata": {},
   "source": [
    "#### Benefits of Modules and Packages\n",
    "\n",
    "Modules and packages help you avoid writing the same code again and again. They also make your code cleaner and more organized, so you can find things easily.\n",
    "\n",
    "Modules and packages are like LEGO blocks for your Python code. They make your life as a programmer easier by letting you organize, reuse, and share your code effortlessly. Just like you wouldn't build a complex structure with just one type of LEGO block, you won't build complex software without modules and packages."
   ]
  },
  {
   "cell_type": "markdown",
   "id": "bad66dca-5996-422e-95cb-7c7ec231f715",
   "metadata": {},
   "source": [
    "## Introduction to Python Standard Libraries\n",
    "\n",
    "Think of Python's Standard Libraries as a toolbox packed with useful tools that you can use without building from scratch. Python creators knew you'd need these tools often, so they've got them ready for you.\n",
    "\n",
    "#### Importing a Library\n",
    "\n",
    "To use a tool from the Standard Library, you need to import it. For instance, if you want to work with dates and times, you'd import the datetime module like this:\n",
    "\n",
    "`import datetime`"
   ]
  },
  {
   "cell_type": "markdown",
   "id": "7b6b4ae8-cb1b-45ca-96a1-2008d48a98ef",
   "metadata": {},
   "source": [
    "#### Exploring Common Modules\n",
    "\n",
    "Let's highlight a few gems from the Standard Library:\n",
    "\n",
    "`os` Module: This is your interface to the operating system. Need to manipulate files, directories, or paths? os has your back.\n",
    "\n",
    "`math` Module: Math calculations are easier with math. From basic arithmetic to more complex operations, this module is a math wizard.\n",
    "\n",
    "`random` Module: Want to generate random numbers or shuffle items in a list? random adds a touch of randomness to your code.\n",
    "\n",
    "`json` Module: Working with JSON data? json helps you parse JSON strings into Python objects and vice versa.\n",
    "\n",
    "`datetime` Module: Dealing with dates and times? datetime helps you manage timezones, formatting, and calculations."
   ]
  },
  {
   "cell_type": "markdown",
   "id": "69bedaff-2b34-40c2-947d-ecaadd858e09",
   "metadata": {},
   "source": [
    "Using a Module\n",
    "\n",
    "Let's say you want to generate a random number between 1 and 10 using the random module:"
   ]
  },
  {
   "cell_type": "code",
   "execution_count": 31,
   "id": "6f8716ba-4e78-46db-8b85-011762449de9",
   "metadata": {
    "tags": []
   },
   "outputs": [
    {
     "name": "stdout",
     "output_type": "stream",
     "text": [
      "6\n"
     ]
    }
   ],
   "source": [
    "import random\n",
    "\n",
    "random_number = random.randint(1, 10)\n",
    "print(random_number)  # Output: A random number between 1 and 10"
   ]
  },
  {
   "cell_type": "code",
   "execution_count": 36,
   "id": "699d95c2-f049-47b2-97de-718ec5cb59f1",
   "metadata": {
    "tags": []
   },
   "outputs": [],
   "source": [
    "def russian_roulette():\n",
    "    random_number = random.randint(1, 10)\n",
    "    count = 0\n",
    "    while True:\n",
    "        user = int(input('Gess the number:'))\n",
    "        if user == random_number:\n",
    "            print('Congratulations!')\n",
    "            break\n",
    "        else:\n",
    "            print('Oops! Try again...')\n",
    "        if count==2:\n",
    "            print('You loose!')\n",
    "            break\n",
    "        count+=1"
   ]
  },
  {
   "cell_type": "code",
   "execution_count": 38,
   "id": "cd0780b6-6a19-4bd5-bd1f-dae3798fed6e",
   "metadata": {
    "tags": []
   },
   "outputs": [
    {
     "name": "stdout",
     "output_type": "stream",
     "text": [
      "10\n"
     ]
    },
    {
     "name": "stdin",
     "output_type": "stream",
     "text": [
      "Gess the number: 2\n"
     ]
    },
    {
     "name": "stdout",
     "output_type": "stream",
     "text": [
      "Oops! Try again...\n"
     ]
    },
    {
     "name": "stdin",
     "output_type": "stream",
     "text": [
      "Gess the number: 3\n"
     ]
    },
    {
     "name": "stdout",
     "output_type": "stream",
     "text": [
      "Oops! Try again...\n"
     ]
    },
    {
     "name": "stdin",
     "output_type": "stream",
     "text": [
      "Gess the number: 10\n"
     ]
    },
    {
     "name": "stdout",
     "output_type": "stream",
     "text": [
      "Congratulations!\n"
     ]
    }
   ],
   "source": [
    "russian_roulette()"
   ]
  },
  {
   "cell_type": "markdown",
   "id": "999f6089-29f2-4a8c-a41e-c2f1e4f4132a",
   "metadata": {},
   "source": [
    "#### Benefits of Standard Libraries\n",
    "\n",
    "Python's Standard Libraries save you tons of time. Instead of building every piece of functionality from scratch, you can leverage these tools that have been thoroughly tested by experts.\n",
    "\n",
    "\n",
    "Python Standard Libraries are like a set of handy tools you inherit with Python. They cover a wide range of tasks, from file manipulation to complex calculations. Using them means you don't need to reinvent the wheel – just grab the tool you need and get things done faster. So, remember to explore these libraries as they'll be your trusty companions throughout your coding journey!"
   ]
  },
  {
   "cell_type": "markdown",
   "id": "fb1bdd6c-1377-4874-ad3d-5e796ea7f8c9",
   "metadata": {},
   "source": [
    "## Python Classes\n",
    "\n",
    "Think of a class as a blueprint for creating objects. It defines the structure and behavior of an object. For instance, if you want to create a class for a \"Car,\" you'd define its attributes like color, make, and model, and its methods like \"start_engine\" and \"drive.\""
   ]
  },
  {
   "cell_type": "markdown",
   "id": "2031afd0-7bb5-4cb2-9fd2-c37a0cebf542",
   "metadata": {},
   "source": [
    "#### Defining a Class\n",
    "\n",
    "Let's say we want to create a class for a simple Student. You'd define it like this:"
   ]
  },
  {
   "cell_type": "code",
   "execution_count": 39,
   "id": "b01c7a0c-0c96-4f43-945c-c6b4d5a23999",
   "metadata": {
    "tags": []
   },
   "outputs": [],
   "source": [
    "class Student:\n",
    "    def __init__(self, name, age):\n",
    "        self.name = name\n",
    "        self.age = age"
   ]
  },
  {
   "cell_type": "markdown",
   "id": "c26dfede-927b-4a7b-8239-472cf3c64187",
   "metadata": {},
   "source": [
    "`__init__` is a special method called a constructor. It's used to initialize the object's attributes."
   ]
  },
  {
   "cell_type": "markdown",
   "id": "7373a9d3-a978-497b-8705-5c3c3e8dce6c",
   "metadata": {},
   "source": [
    "#### Creating Objects\n",
    "\n",
    "Once you have a class, you can create objects or instances of that class. Let's create a student named \"Alice\":"
   ]
  },
  {
   "cell_type": "code",
   "execution_count": 40,
   "id": "19118c2f-a4cf-43e6-8985-7ece527ef4d0",
   "metadata": {
    "tags": []
   },
   "outputs": [],
   "source": [
    "alice = Student(\"Alice\", 20)"
   ]
  },
  {
   "cell_type": "markdown",
   "id": "7930d985-f4e3-4c07-a32a-dfc2fb185f51",
   "metadata": {},
   "source": [
    "#### Accessing Attributes\n",
    "\n",
    "You can access an object's attributes using dot notation:"
   ]
  },
  {
   "cell_type": "code",
   "execution_count": 41,
   "id": "4ea2c4ca-e206-4351-b26c-76e819aa784e",
   "metadata": {
    "tags": []
   },
   "outputs": [
    {
     "name": "stdout",
     "output_type": "stream",
     "text": [
      "Alice\n",
      "20\n"
     ]
    }
   ],
   "source": [
    "print(alice.name)  # Output: Alice\n",
    "print(alice.age)   # Output: 20"
   ]
  },
  {
   "cell_type": "markdown",
   "id": "91b2aa9c-2fa4-4b66-b234-2d59dd32ecdb",
   "metadata": {},
   "source": [
    "#### Adding Methods\n",
    "\n",
    "Methods are functions defined within a class. Let's add a method to the Student class:"
   ]
  },
  {
   "cell_type": "code",
   "execution_count": 44,
   "id": "8a12e213-c7e1-4ab1-9a10-a718c83f25ee",
   "metadata": {
    "tags": []
   },
   "outputs": [],
   "source": [
    "class Student:\n",
    "    def __init__(self, name, age):\n",
    "        self.name = name\n",
    "        self.age = age\n",
    "    \n",
    "    def greet(self):\n",
    "        return f\"Hi, I'm {self.name} and I'm {self.age} years old.\"\n"
   ]
  },
  {
   "cell_type": "markdown",
   "id": "bc24659e-bd58-40e3-9185-09f421c654ca",
   "metadata": {},
   "source": [
    "Using Methods\n",
    "\n",
    "Now you can use the method on the object:"
   ]
  },
  {
   "cell_type": "code",
   "execution_count": 47,
   "id": "17007cba-5530-4e49-b1be-7ffb86d100c0",
   "metadata": {
    "tags": []
   },
   "outputs": [
    {
     "name": "stdout",
     "output_type": "stream",
     "text": [
      "Hi, I'm Alice and I'm 20 years old.\n"
     ]
    }
   ],
   "source": [
    "alice = Student(\"Alice\", 20)\n",
    "print(alice.greet())"
   ]
  },
  {
   "cell_type": "markdown",
   "id": "e244d35a-559e-4135-8551-f9d2c43b6584",
   "metadata": {},
   "source": [
    "#### Benefits of Classes\n",
    "\n",
    "Classes help you organize your code into reusable and manageable units. They promote code reusability and make your code more maintainable.\n",
    "\n",
    "#### Conclusion:\n",
    "\n",
    "Python classes are your toolkit for creating organized and structured code. They allow you to bundle data (attributes) and functionality (methods) together. Think of them as the LEGO blocks that help you build complex systems with ease. By using classes, you'll write cleaner, more organized code that's easier to understand and maintain. So, start exploring classes and open up a world of powerful coding possibilities!"
   ]
  },
  {
   "cell_type": "markdown",
   "id": "79d53621-e658-4867-9a4b-125d4b2519bd",
   "metadata": {},
   "source": [
    "Sure thing! Let's dive into the world of databases and understand what they're all about. I'll use simple, everyday examples to make it crystal clear.\n",
    "\n",
    "**Step 1: What are Databases?**\n",
    "\n",
    "Imagine you have a huge collection of books. Now, you want to organize them so you can quickly find the book you need. What do you do? You create a bookshelf with labeled sections, right? That's exactly what a database does, but for information!\n",
    "\n",
    "**Step 2: Organizing Information**\n",
    "\n",
    "Think of a database as a digital bookshelf where you store different types of information. Let's say you have a music app. You need to store details about songs: names, artists, genres, etc. Instead of having a messy list, you create a database to neatly organize this info.\n",
    "\n",
    "**Step 3: Tables – Your Bookshelves**\n",
    "\n",
    "In your music app database, each type of information gets its own \"table.\" A table is like a bookshelf section dedicated to a specific topic. So, you might have a \"Songs\" table, a \"Artists\" table, and so on.\n",
    "\n",
    "**Step 4: Rows and Columns**\n",
    "\n",
    "Now, imagine each table as a shelf, and each row on the shelf holds a book. In your \"Songs\" table, each row represents a song. Columns are like the info on the spine of the book – song name, artist, genre, and more.\n",
    "\n",
    "**Step 5: Primary Keys**\n",
    "\n",
    "Just like each book on your shelf has a unique ID, each row in a table has a \"Primary Key.\" It's a special identifier for that row. For songs, it could be a song ID number.\n",
    "\n",
    "**Step 6: Real-world Example**\n",
    "\n",
    "Let's say you have a \"Customers\" table for an online store. Each row (customer) has columns like name, email, and address. The primary key could be a customer ID. This way, you can easily find and manage customer info.\n",
    "\n",
    "**Step 7: Querying – Finding What You Need**\n",
    "\n",
    "When you want a specific book, you don't search every shelf, right? You simply look for the book in the right section. Similarly, in databases, you \"query\" to find specific info. Want to know all customers who bought a certain product? A query can do that!\n",
    "\n",
    "**Step 8: Benefits of Databases**\n",
    "\n",
    "Databases are like your personal assistants for handling information. They help you organize, find, and manage data effortlessly. Imagine handling thousands of customers' info without a database – chaos, right?\n",
    "\n",
    "**Conclusion:**\n",
    "\n",
    "Databases are like digital bookshelves for storing and managing information. Just like you organize your books by genre or author, databases organize data into tables, rows, and columns. They're essential for modern apps, websites, and businesses to handle data smoothly. So, next time you use an app or a website, remember, there's a smart database working behind the scenes to make it all happen!"
   ]
  },
  {
   "cell_type": "code",
   "execution_count": null,
   "id": "296e472a-7d9c-47e0-9bc9-6c5eb2d18683",
   "metadata": {},
   "outputs": [],
   "source": []
  }
 ],
 "metadata": {
  "kernelspec": {
   "display_name": "Python 3 (ipykernel)",
   "language": "python",
   "name": "python3"
  },
  "language_info": {
   "codemirror_mode": {
    "name": "ipython",
    "version": 3
   },
   "file_extension": ".py",
   "mimetype": "text/x-python",
   "name": "python",
   "nbconvert_exporter": "python",
   "pygments_lexer": "ipython3",
   "version": "3.7.16"
  }
 },
 "nbformat": 4,
 "nbformat_minor": 5
}
